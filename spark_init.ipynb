{
 "cells": [
  {
   "cell_type": "code",
   "execution_count": 2,
   "id": "2d8dc496-4301-42ff-b753-f9a5925ac8fb",
   "metadata": {},
   "outputs": [],
   "source": [
    "import findspark\n",
    "findspark.init()\n",
    " \n",
    "from pyspark.sql import SparkSession\n",
    " \n",
    "spark = SparkSession.builder.appName(\"EjemploPySpark\").getOrCreate()"
   ]
  },
  {
   "cell_type": "code",
   "execution_count": 3,
   "id": "b8fc044c-a7d9-47e2-a364-677f479a8287",
   "metadata": {},
   "outputs": [
    {
     "name": "stdout",
     "output_type": "stream",
     "text": [
      "+------------+\n",
      "|     mensaje|\n",
      "+------------+\n",
      "|Hola, Spark!|\n",
      "+------------+\n",
      "\n"
     ]
    }
   ],
   "source": [
    "spark.sql(\"SELECT 'Hola, Spark!' AS mensaje\").show()"
   ]
  },
  {
   "cell_type": "code",
   "execution_count": null,
   "id": "f7ac49dc-992f-4141-86f1-1c065b28b35f",
   "metadata": {},
   "outputs": [],
   "source": []
  }
 ],
 "metadata": {
  "kernelspec": {
   "display_name": "PySpark",
   "language": "python",
   "name": "pyspark"
  },
  "language_info": {
   "codemirror_mode": {
    "name": "ipython",
    "version": 3
   },
   "file_extension": ".py",
   "mimetype": "text/x-python",
   "name": "python",
   "nbconvert_exporter": "python",
   "pygments_lexer": "ipython3",
   "version": "3.9.13"
  }
 },
 "nbformat": 4,
 "nbformat_minor": 5
}
