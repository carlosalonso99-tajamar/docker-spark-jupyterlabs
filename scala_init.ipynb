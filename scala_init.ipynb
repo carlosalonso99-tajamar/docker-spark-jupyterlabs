{
 "cells": [
  {
   "cell_type": "code",
   "execution_count": 1,
   "id": "aa288015-8e44-468e-9d01-ea3231c7a530",
   "metadata": {},
   "outputs": [
    {
     "name": "stdout",
     "output_type": "stream",
     "text": [
      "+-----+---+\n",
      "| Name|Age|\n",
      "+-----+---+\n",
      "|Alice| 30|\n",
      "|  Bob| 25|\n",
      "|Cathy| 27|\n",
      "+-----+---+\n",
      "\n"
     ]
    },
    {
     "data": {
      "text/plain": [
       "spark = org.apache.spark.sql.SparkSession@7de007e9\n",
       "data = List((Alice,30), (Bob,25), (Cathy,27))\n",
       "df = [Name: string, Age: int]\n"
      ]
     },
     "metadata": {},
     "output_type": "display_data",
     "source": "user"
    },
    {
     "data": {
      "text/plain": [
       "[Name: string, Age: int]"
      ]
     },
     "execution_count": 1,
     "metadata": {},
     "output_type": "execute_result"
    }
   ],
   "source": [
    "import org.apache.spark.sql.SparkSession\n",
    "\n",
    "// Iniciar la sesión de Spark\n",
    "val spark = SparkSession.builder\n",
    "    .appName(\"EjemploScalaSpark\")\n",
    "    .master(\"local[*]\")\n",
    "    .getOrCreate()\n",
    "\n",
    "// Crear datos de ejemplo\n",
    "val data = Seq((\"Alice\", 30), (\"Bob\", 25), (\"Cathy\", 27))\n",
    "val df = spark.createDataFrame(data).toDF(\"Name\", \"Age\")\n",
    "\n",
    "// Mostrar el contenido del DataFrame\n",
    "df.show()\n"
   ]
  }
 ],
 "metadata": {
  "kernelspec": {
   "display_name": "Apache Toree - Scala",
   "language": "scala",
   "name": "apache_toree_scala"
  },
  "language_info": {
   "codemirror_mode": "text/x-scala",
   "file_extension": ".scala",
   "mimetype": "text/x-scala",
   "name": "scala",
   "pygments_lexer": "scala",
   "version": "2.12.15"
  }
 },
 "nbformat": 4,
 "nbformat_minor": 5
}
