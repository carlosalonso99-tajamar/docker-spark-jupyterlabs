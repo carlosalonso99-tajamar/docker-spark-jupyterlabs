{
 "cells": [
  {
   "cell_type": "code",
   "execution_count": 5,
   "id": "488216a8-f54b-4df3-85b0-d3f3677ff928",
   "metadata": {},
   "outputs": [],
   "source": [
    "import findspark\n",
    "findspark.init()\n",
    "from pyspark import SparkContext\n",
    "sc = SparkContext.getOrCreate()"
   ]
  },
  {
   "cell_type": "code",
   "execution_count": 4,
   "id": "7728839c-7e8b-4290-95a0-72f80dbeceab",
   "metadata": {},
   "outputs": [],
   "source": [
    "from pyspark import SparkContext\n"
   ]
  },
  {
   "cell_type": "code",
   "execution_count": 30,
   "id": "bf996b42-711b-45ef-a892-2a9248be03b8",
   "metadata": {},
   "outputs": [],
   "source": [
    "sc = SparkContext.getOrCreate()"
   ]
  },
  {
   "cell_type": "code",
   "execution_count": 35,
   "id": "b4ec6958-fce5-4b5d-9512-ba8b9b8542fc",
   "metadata": {},
   "outputs": [
    {
     "name": "stdout",
     "output_type": "stream",
     "text": [
      "Overwriting ejemplo.txt\n"
     ]
    }
   ],
   "source": [
    "%%writefile ejemplo.txt\n",
    "primera fila\n",
    "segunda fila\n",
    "tercera fila\n",
    "cuarta fila"
   ]
  },
  {
   "cell_type": "code",
   "execution_count": 40,
   "id": "6c9fb177-9955-45e4-90d6-86ce732d693c",
   "metadata": {},
   "outputs": [],
   "source": [
    "text_file = sc.textFile('ejemplo.txt')"
   ]
  },
  {
   "cell_type": "code",
   "execution_count": 41,
   "id": "8beb39c9-15a7-425c-917e-d4dea15dd639",
   "metadata": {},
   "outputs": [
    {
     "data": {
      "text/plain": [
       "ejemplo.txt MapPartitionsRDD[5] at textFile at NativeMethodAccessorImpl.java:0"
      ]
     },
     "execution_count": 41,
     "metadata": {},
     "output_type": "execute_result"
    }
   ],
   "source": [
    "text_file"
   ]
  },
  {
   "cell_type": "markdown",
   "id": "44f3b79a-6433-47ec-b293-ae3369110b75",
   "metadata": {
    "tags": []
   },
   "source": [
    "# Acciones"
   ]
  },
  {
   "cell_type": "code",
   "execution_count": 43,
   "id": "7646ab92-93bb-4450-babb-199d17cd01bc",
   "metadata": {},
   "outputs": [
    {
     "data": {
      "text/plain": [
       "['primera fila', 'segunda fila', 'tercera fila', 'cuarta fila']"
      ]
     },
     "execution_count": 43,
     "metadata": {},
     "output_type": "execute_result"
    }
   ],
   "source": [
    "text_file.collect()"
   ]
  },
  {
   "cell_type": "code",
   "execution_count": 44,
   "id": "f7322978-9a82-4700-be76-a972d94a2992",
   "metadata": {},
   "outputs": [
    {
     "data": {
      "text/plain": [
       "'primera fila'"
      ]
     },
     "execution_count": 44,
     "metadata": {},
     "output_type": "execute_result"
    }
   ],
   "source": [
    "text_file.first()"
   ]
  },
  {
   "cell_type": "markdown",
   "id": "492bcfa8-b266-4ade-8ecd-b2bdd19c73e1",
   "metadata": {},
   "source": [
    "# Transformación"
   ]
  },
  {
   "cell_type": "code",
   "execution_count": 50,
   "id": "d5386ae1-b732-4246-8400-5614c5cb4967",
   "metadata": {},
   "outputs": [],
   "source": [
    "segunda = text_file.filter(lambda linea: 'segunda' in linea)"
   ]
  },
  {
   "cell_type": "code",
   "execution_count": 53,
   "id": "cbb30a46-a9e9-4648-a90b-105cfcfe226c",
   "metadata": {},
   "outputs": [
    {
     "data": {
      "text/plain": [
       "PythonRDD[7] at RDD at PythonRDD.scala:53"
      ]
     },
     "execution_count": 53,
     "metadata": {},
     "output_type": "execute_result"
    }
   ],
   "source": [
    "segunda"
   ]
  },
  {
   "cell_type": "code",
   "execution_count": 56,
   "id": "bfbb460c-ddab-4f8d-9767-46949f57ea43",
   "metadata": {},
   "outputs": [
    {
     "data": {
      "text/plain": [
       "['segunda fila']"
      ]
     },
     "execution_count": 56,
     "metadata": {},
     "output_type": "execute_result"
    }
   ],
   "source": [
    "segunda.collect()"
   ]
  },
  {
   "cell_type": "code",
   "execution_count": null,
   "id": "273f717c-9094-4db1-8381-c07d3f4b463f",
   "metadata": {},
   "outputs": [],
   "source": []
  },
  {
   "cell_type": "code",
   "execution_count": null,
   "id": "9cd4aa17-05bb-4d71-aa59-1a968043e032",
   "metadata": {},
   "outputs": [],
   "source": []
  },
  {
   "cell_type": "raw",
   "id": "df0b6cb8-418d-4755-8277-4885b6fe725b",
   "metadata": {},
   "source": []
  }
 ],
 "metadata": {
  "kernelspec": {
   "display_name": "PySpark",
   "language": "python",
   "name": "pyspark"
  },
  "language_info": {
   "codemirror_mode": {
    "name": "ipython",
    "version": 3
   },
   "file_extension": ".py",
   "mimetype": "text/x-python",
   "name": "python",
   "nbconvert_exporter": "python",
   "pygments_lexer": "ipython3",
   "version": "3.9.13"
  }
 },
 "nbformat": 4,
 "nbformat_minor": 5
}
