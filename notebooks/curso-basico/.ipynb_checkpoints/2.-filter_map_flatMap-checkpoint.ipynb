{
 "cells": [
  {
   "cell_type": "code",
   "execution_count": 7,
   "id": "4acfb20a-ba47-49e1-8fce-64a20fa0010e",
   "metadata": {},
   "outputs": [
    {
     "name": "stderr",
     "output_type": "stream",
     "text": [
      "Setting default log level to \"WARN\".\n",
      "To adjust logging level use sc.setLogLevel(newLevel). For SparkR, use setLogLevel(newLevel).\n",
      "24/11/14 18:59:42 WARN NativeCodeLoader: Unable to load native-hadoop library for your platform... using builtin-java classes where applicable\n",
      "24/11/14 18:59:43 WARN Utils: Service 'SparkUI' could not bind on port 4040. Attempting port 4041.\n"
     ]
    }
   ],
   "source": [
    "import findspark\n",
    "findspark.init()\n",
    "from pyspark import SparkContext\n",
    "sc = SparkContext.getOrCreate()"
   ]
  },
  {
   "cell_type": "code",
   "execution_count": 8,
   "id": "e6d4291b-f019-49c3-ab68-d228c99c46e8",
   "metadata": {},
   "outputs": [],
   "source": [
    "lista = [1,2,3,4,5]"
   ]
  },
  {
   "cell_type": "code",
   "execution_count": 9,
   "id": "8dd57efe-ab6d-46a6-8733-a83cc1dfcc06",
   "metadata": {},
   "outputs": [],
   "source": [
    "rdd = sc.parallelize(lista)"
   ]
  },
  {
   "cell_type": "code",
   "execution_count": 10,
   "id": "53a923bb-1dc6-4477-aca9-5425ed54e451",
   "metadata": {},
   "outputs": [
    {
     "data": {
      "text/plain": [
       "[1, 2, 3, 4, 5]"
      ]
     },
     "execution_count": 10,
     "metadata": {},
     "output_type": "execute_result"
    }
   ],
   "source": [
    "rdd.collect()"
   ]
  },
  {
   "cell_type": "markdown",
   "id": "98fa73f4-cf19-43af-bc51-55a392e5e236",
   "metadata": {},
   "source": [
    "# filter() filtra elementos de un RDD"
   ]
  },
  {
   "cell_type": "code",
   "execution_count": 22,
   "id": "c235f431-4657-46f3-aa4e-f74a8680379b",
   "metadata": {},
   "outputs": [],
   "source": [
    "filtrado_rdd = rdd.filter(lambda x: x > 1)"
   ]
  },
  {
   "cell_type": "code",
   "execution_count": 23,
   "id": "86cc8da0-72a4-479b-865c-cc283f21f4fa",
   "metadata": {},
   "outputs": [
    {
     "data": {
      "text/plain": [
       "[2, 3, 4, 5]"
      ]
     },
     "execution_count": 23,
     "metadata": {},
     "output_type": "execute_result"
    }
   ],
   "source": [
    "filtrado_rdd.collect()"
   ]
  },
  {
   "cell_type": "markdown",
   "id": "5135753a-af81-47f6-a7a2-bb35cc25f384",
   "metadata": {},
   "source": [
    "# map() aplica una función a los elementos de u RDD"
   ]
  },
  {
   "cell_type": "code",
   "execution_count": 24,
   "id": "30241c48-81f0-461e-8c52-e586551aa4c1",
   "metadata": {},
   "outputs": [],
   "source": [
    "def suma1(x):\n",
    "   return(x+1) "
   ]
  },
  {
   "cell_type": "code",
   "execution_count": 25,
   "id": "18308377-8b5d-44ec-a8fa-da3467408c94",
   "metadata": {},
   "outputs": [],
   "source": [
    "filtrado_sumado_rdd = filtered_rdd.map(suma1)"
   ]
  },
  {
   "cell_type": "code",
   "execution_count": 26,
   "id": "fe16a8aa-cc54-48ea-a233-f710734dd01a",
   "metadata": {},
   "outputs": [
    {
     "data": {
      "text/plain": [
       "[3, 4, 5, 6]"
      ]
     },
     "execution_count": 26,
     "metadata": {},
     "output_type": "execute_result"
    }
   ],
   "source": [
    "filtrado_sumado_rdd.collect()"
   ]
  },
  {
   "cell_type": "code",
   "execution_count": 27,
   "id": "0cb3c81b-0d22-4e52-880b-3301a65e04d2",
   "metadata": {},
   "outputs": [],
   "source": [
    "cuadrado_rdd = (filtrado_rdd\n",
    "                .map(suma1)\n",
    "                .map(lambda x: (x,x**2)))"
   ]
  },
  {
   "cell_type": "code",
   "execution_count": 28,
   "id": "39ba7e36-173e-4318-95f5-c8b3b67b7a36",
   "metadata": {},
   "outputs": [
    {
     "data": {
      "text/plain": [
       "[(3, 9), (4, 16), (5, 25), (6, 36)]"
      ]
     },
     "execution_count": 28,
     "metadata": {},
     "output_type": "execute_result"
    }
   ],
   "source": [
    "cuadrado_rdd.collect()"
   ]
  },
  {
   "cell_type": "markdown",
   "id": "8d7ed2a5-1f10-4fb5-9ab8-cc1b0896dadd",
   "metadata": {},
   "source": [
    "# flatMap() es igual a map() pero convirtiendo el resultado en una lista simple"
   ]
  },
  {
   "cell_type": "code",
   "execution_count": 29,
   "id": "cf41e6f7-4c8f-4479-a34e-fe44b5ece455",
   "metadata": {},
   "outputs": [],
   "source": [
    "cuadrado_rdd = (filtrado_rdd\n",
    "                .map(suma1)\n",
    "                .flatMap(lambda x: (x,x**2)))"
   ]
  },
  {
   "cell_type": "code",
   "execution_count": 30,
   "id": "d9bf7b78-1132-4f71-bb3f-79ab69cd2d83",
   "metadata": {},
   "outputs": [
    {
     "data": {
      "text/plain": [
       "[3, 9, 4, 16, 5, 25, 6, 36]"
      ]
     },
     "execution_count": 30,
     "metadata": {},
     "output_type": "execute_result"
    }
   ],
   "source": [
    "cuadrado_rdd.collect()"
   ]
  },
  {
   "cell_type": "code",
   "execution_count": null,
   "id": "69b13ae5-eace-49d2-9541-26bb015a30c9",
   "metadata": {},
   "outputs": [],
   "source": []
  }
 ],
 "metadata": {
  "kernelspec": {
   "display_name": "PySpark",
   "language": "python",
   "name": "pyspark"
  },
  "language_info": {
   "codemirror_mode": {
    "name": "ipython",
    "version": 3
   },
   "file_extension": ".py",
   "mimetype": "text/x-python",
   "name": "python",
   "nbconvert_exporter": "python",
   "pygments_lexer": "ipython3",
   "version": "3.9.13"
  }
 },
 "nbformat": 4,
 "nbformat_minor": 5
}
